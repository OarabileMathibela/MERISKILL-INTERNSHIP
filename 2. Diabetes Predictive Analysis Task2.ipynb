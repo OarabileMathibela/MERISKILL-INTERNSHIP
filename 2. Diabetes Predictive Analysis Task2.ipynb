{
 "cells": [
  {
   "cell_type": "code",
   "execution_count": null,
   "metadata": {},
   "outputs": [],
   "source": [
    "import pandas as pandas\n",
    "import numpy as numpy\n",
    "import matplotlib.pyplot as plt\n",
    "import seaborn as sns\n",
    "\n",
    "    from sklearn.model_selection import train_test_split\n",
    "     from sklearn.linear_model import LogisticRegression\n",
    "     from sklearn.metrics import accuracy_score\n",
    "\n",
    "\n",
    "     \"data=pd.read_csv(C:\\Users\\hp\\Downloads\\Project 1 - Sales Data Analysis\\Sales Data.csv)\"\n",
    "\n",
    "sns.heatmap(data.isNull())\n",
    "correlation =data.corr()\n",
    "print(correlation)\n",
    "\n",
    "\n",
    "        Prediction= model.predict(x_test)\n",
    "        print(Prediction)\n",
    "\n",
    "                accuracy= accuracy_score(prediction,Y_test)\n",
    "                print(accuracy)\n",
    "                "
   ]
  }
 ],
 "metadata": {
  "language_info": {
   "name": "python"
  }
 },
 "nbformat": 4,
 "nbformat_minor": 2
}
